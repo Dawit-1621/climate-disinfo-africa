{
 "cells": [
  {
   "cell_type": "markdown",
   "id": "cd03fbc2",
   "metadata": {},
   "source": [
    "# Correlation Analysis"
   ]
  },
  {
   "cell_type": "code",
   "execution_count": null,
   "id": "48979abb",
   "metadata": {},
   "outputs": [],
   "source": [
    "\n",
    "# Climate Disinformation Correlation Analysis\n",
    "\n",
    "import pandas as pd\n",
    "import seaborn as sns\n",
    "import matplotlib.pyplot as plt\n",
    "\n",
    "env_df = pd.read_csv('../data/processed/environmental_data.csv')\n",
    "corr = env_df.corr()\n",
    "sns.heatmap(corr, annot=True, cmap='coolwarm')\n",
    "plt.show()\n"
   ]
  }
 ],
 "metadata": {},
 "nbformat": 4,
 "nbformat_minor": 5
}
