{
 "cells": [
  {
   "cell_type": "markdown",
   "id": "911abaf7",
   "metadata": {},
   "source": [
    "# Network Analysis"
   ]
  },
  {
   "cell_type": "code",
   "execution_count": null,
   "id": "832dd7a4",
   "metadata": {},
   "outputs": [],
   "source": [
    "\n",
    "# Climate Disinformation Network Analysis\n",
    "\n",
    "import pandas as pd\n",
    "import networkx as nx\n",
    "import matplotlib.pyplot as plt\n",
    "\n",
    "edges = [('Nigeria','Kenya'),('Kenya','South Africa'),('South Africa','Egypt')]\n",
    "G = nx.Graph()\n",
    "G.add_edges_from(edges)\n",
    "nx.draw(G, with_labels=True, node_color='lightblue')\n",
    "plt.show()\n"
   ]
  }
 ],
 "metadata": {},
 "nbformat": 4,
 "nbformat_minor": 5
}
