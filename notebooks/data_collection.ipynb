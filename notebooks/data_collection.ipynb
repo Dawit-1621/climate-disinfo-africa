{
 "cells": [
  {
   "cell_type": "markdown",
   "id": "884bc1ce",
   "metadata": {},
   "source": [
    "# Data Collection"
   ]
  },
  {
   "cell_type": "code",
   "execution_count": null,
   "id": "8636d748",
   "metadata": {},
   "outputs": [],
   "source": [
    "\n",
    "# Climate Disinformation Data Collection\n",
    "\n",
    "import pandas as pd\n",
    "env_df = pd.read_csv('../data/processed/environmental_data.csv')\n",
    "print(\"Processed environmental data:\")\n",
    "env_df.head()\n"
   ]
  }
 ],
 "metadata": {},
 "nbformat": 4,
 "nbformat_minor": 5
}
