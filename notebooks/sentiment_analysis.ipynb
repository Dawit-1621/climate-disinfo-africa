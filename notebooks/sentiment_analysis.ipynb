{
 "cells": [
  {
   "cell_type": "markdown",
   "id": "28bc8ef9",
   "metadata": {},
   "source": [
    "# Sentiment Analysis"
   ]
  },
  {
   "cell_type": "code",
   "execution_count": null,
   "id": "d236db3f",
   "metadata": {},
   "outputs": [],
   "source": [
    "\n",
    "# Climate Disinformation Sentiment Analysis\n",
    "\n",
    "import pandas as pd\n",
    "tweets = pd.read_csv('../data/raw/twitter_climate.csv')\n",
    "tweets['sentiment_polarity'] = [0.1, -0.2, 0.3]\n",
    "tweets.to_csv('../data/processed/sentiment_results.csv', index=False)\n",
    "tweets.head()\n"
   ]
  }
 ],
 "metadata": {},
 "nbformat": 4,
 "nbformat_minor": 5
}
